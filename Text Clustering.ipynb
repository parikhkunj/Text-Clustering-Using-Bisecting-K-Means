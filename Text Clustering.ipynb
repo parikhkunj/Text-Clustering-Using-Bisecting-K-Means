{
 "cells": [
  {
   "cell_type": "code",
   "execution_count": 1,
   "metadata": {
    "collapsed": true
   },
   "outputs": [],
   "source": [
    "import matplotlib.pyplot as matplot\n",
    "from collections import defaultdict\n",
    "from scipy.sparse import csr_matrix, find\n",
    "import numpy as np\n",
    "import random\n",
    "from sklearn.metrics.cluster import normalized_mutual_info_score\n",
    "from sklearn.utils import shuffle\n",
    "from sklearn.metrics import calinski_harabaz_score\n",
    "from sklearn.metrics import silhouette_score\n",
    "import pylab"
   ]
  },
  {
   "cell_type": "code",
   "execution_count": 2,
   "metadata": {
    "collapsed": true
   },
   "outputs": [],
   "source": [
    "#For reading the csr\n",
    "def csr_read(fname, ftype=\"csr\", nidx=1):\n",
    "    r\"\"\" \n",
    "        Read CSR matrix from a text file. \n",
    "        \n",
    "        \\param fname File name for CSR/CLU matrix\n",
    "        \\param ftype Input format. Acceptable formats are:\n",
    "            - csr - Compressed sparse row\n",
    "            - clu - Cluto format, i.e., CSR + header row with \"nrows ncols nnz\"\n",
    "        \\param nidx Indexing type in CSR file. What does numbering of feature IDs start with?\n",
    "    \"\"\"\n",
    "    \n",
    "    with open(fname) as f:\n",
    "        lines = f.readlines()\n",
    "    \n",
    "    if ftype == \"clu\":\n",
    "        p = lines[0].split()\n",
    "        nrows = int(p[0])\n",
    "        ncols = int(p[1])\n",
    "        nnz = long(p[2])\n",
    "        lines = lines[1:]\n",
    "        assert(len(lines) == nrows)\n",
    "    elif ftype == \"csr\":\n",
    "        nrows = len(lines)\n",
    "        ncols = 0 \n",
    "        nnz = 0 \n",
    "        for i in xrange(nrows):\n",
    "            p = lines[i].split()\n",
    "            if len(p) % 2 != 0:\n",
    "                raise ValueError(\"Invalid CSR matrix. Row %d contains %d numbers.\" % (i, len(p)))\n",
    "            nnz += len(p)/2\n",
    "            for j in xrange(0, len(p), 2): \n",
    "                cid = int(p[j]) - nidx\n",
    "                if cid+1 > ncols:\n",
    "                    ncols = cid+1\n",
    "    else:\n",
    "        raise ValueError(\"Invalid sparse matrix ftype '%s'.\" % ftype)\n",
    "    val = np.zeros(nnz, dtype=np.float)\n",
    "    ind = np.zeros(nnz, dtype=np.int)\n",
    "    ptr = np.zeros(nrows+1, dtype=np.long)\n",
    "    n = 0 \n",
    "    for i in xrange(nrows):\n",
    "        p = lines[i].split()\n",
    "        for j in xrange(0, len(p), 2): \n",
    "            ind[n] = int(p[j]) - nidx\n",
    "            val[n] = float(p[j+1])\n",
    "            n += 1\n",
    "        ptr[i+1] = n \n",
    "    \n",
    "    assert(n == nnz)\n",
    "    \n",
    "    mat = csr_matrix((val, ind, ptr), shape=(nrows, ncols), dtype=np.float)\n",
    "    mat.sort_indices()\n",
    "    return mat"
   ]
  },
  {
   "cell_type": "code",
   "execution_count": 3,
   "metadata": {
    "collapsed": true
   },
   "outputs": [],
   "source": [
    "#Function Declaration for finding the mmean\n",
    "\n",
    "def cal_mean(mat, indx, k):\n",
    "   \n",
    "    temp = 1\n",
    "    cntr_list = []  \n",
    "    for i in range(1, k+1):\n",
    "        indx_mat = [j for j, x in enumerate(indx) if x == i]\n",
    "        values_mat = mat[indx_mat,:]\n",
    "        if (values_mat.shape[0] > temp):\n",
    "            cntr_list.append(values_mat.toarray().mean(0))\n",
    "    csr_cntr = csr_matrix(cntr_list)\n",
    "    \n",
    "    return csr_cntr"
   ]
  },
  {
   "cell_type": "code",
   "execution_count": 4,
   "metadata": {
    "collapsed": true
   },
   "outputs": [],
   "source": [
    "def csr_idf(mat, copy=False, **kargs):\n",
    "    r\"\"\" Scale a CSR matrix by idf. \n",
    "    Returns scaling factors as dict. If copy is True, \n",
    "    returns scaled matrix and scaling factors.\n",
    "    \"\"\"\n",
    "    if copy is True:\n",
    "        mat = mat.copy()\n",
    "    nrows = mat.shape[0]\n",
    "    nnz = mat.nnz\n",
    "    ind, val, ptr = mat.indices, mat.data, mat.indptr\n",
    "    # document frequency\n",
    "    df = defaultdict(int)\n",
    "    for i in ind:\n",
    "        df[i] += 1\n",
    "    # inverse document frequency\n",
    "    for k,v in df.items():\n",
    "        df[k] = np.log(nrows / float(v))  ## df turns to idf - reusing memory\n",
    "    # scale by idf\n",
    "    for i in range(0, nnz):\n",
    "        val[i] *= df[ind[i]]\n",
    "        \n",
    "    return df if copy is False else mat\n",
    "\n",
    "def csr_l2normalize(mat, copy=False, **kargs):\n",
    "    r\"\"\" Normalize the rows of a CSR matrix by their L-2 norm. \n",
    "    If copy is True, returns a copy of the normalized matrix.\n",
    "    \"\"\"\n",
    "    if copy is True:\n",
    "        mat = mat.copy()\n",
    "    nrows = mat.shape[0]\n",
    "    nnz = mat.nnz\n",
    "    ind, val, ptr = mat.indices, mat.data, mat.indptr\n",
    "    # normalize\n",
    "    for i in range(nrows):\n",
    "        rsum = 0.0    \n",
    "        for j in range(ptr[i], ptr[i+1]):\n",
    "            rsum += val[j]**2\n",
    "        if rsum == 0.0:\n",
    "            continue  # do not normalize empty rows\n",
    "        rsum = float(1.0/np.sqrt(rsum))\n",
    "        for j in range(ptr[i], ptr[i+1]):\n",
    "            val[j] *= rsum\n",
    "            \n",
    "    if copy is True:\n",
    "        return mat"
   ]
  },
  {
   "cell_type": "code",
   "execution_count": 5,
   "metadata": {
    "collapsed": true
   },
   "outputs": [],
   "source": [
    "#Function declaration for calculating similar points\n",
    "def calculate(mat, centroids):\n",
    "\n",
    "    indx = []\n",
    "    csr_similarity = mat.dot(centroids.T)\n",
    "  \n",
    "    for x in range(csr_similarity.shape[0]):\n",
    "        number_r = csr_similarity.getrow(x).toarray()[0].ravel()\n",
    "        sorted_ind = number_r.argsort()[-1]\n",
    "        indx.append(sorted_ind + 1)\n",
    "    return indx  "
   ]
  },
  {
   "cell_type": "code",
   "execution_count": 6,
   "metadata": {
    "collapsed": true
   },
   "outputs": [],
   "source": [
    "file_name = \"train.dat\"\n",
    "mat = csr_read(file_name, ftype=\"csr\", nidx=1)\n",
    "mat2 = csr_idf(mat, copy=True)\n",
    "mat3 = csr_l2normalize(mat2, copy=True)"
   ]
  },
  {
   "cell_type": "code",
   "execution_count": 7,
   "metadata": {
    "collapsed": true
   },
   "outputs": [],
   "source": [
    "# Function declaration for Kmeans clustering\n",
    "def Clustering_KMeans(k, mat, iteration_count):\n",
    "\n",
    "    shuffle_set = shuffle(mat, random_state=0)\n",
    "    cntrd = shuffle_set[:k,:]\n",
    "\n",
    "    for q in range(iteration_count): \n",
    "        idx = calculate(mat, cntrd)            \n",
    "        cntrd = cal_mean(mat, idx, k)        \n",
    "    \n",
    "    return idx"
   ]
  },
  {
   "cell_type": "code",
   "execution_count": 8,
   "metadata": {
    "collapsed": true
   },
   "outputs": [],
   "source": [
    "# Declaring the function for the Bisecting Kmeans clustering\n",
    "def Clustering_BKMeans(matrix, num_k):\n",
    "    start_cluster, ind_clust = [],[]\n",
    "    start_cluster.append(matrix)\n",
    "    for i in range(matrix.shape[0]):   \n",
    "        ind_clust.append(1)\n",
    "    number = 1\n",
    "    count = 1\n",
    "    for q in range(1, 7):      \n",
    "        cnt_indx, lst, ls_inp = [], [], []\n",
    "        e = len(ind_clust)\n",
    "        w = q + 1\n",
    "        \n",
    "        for r in range(w):  \n",
    "            lst.append(0)\n",
    "        \n",
    "        for r in range(k): \n",
    "            num_check = ind_clust[r]\n",
    "            if(num_check == number):              \n",
    "                ls_inp.append(matrix[r,:].toarray()[0])\n",
    "                cnt_indx.append(r)\n",
    "            if(num_check > number):\n",
    "                 ind_clust[r] = ind_clust[r]+1\n",
    "        cnvt_toscr_input = csr_matrix(ls_inp)       \n",
    "        output_kmeans = Clustering_KMeans(7,cnvt_toscr_input, 20)\n",
    "        \n",
    "        for cntr1 in range(k):\n",
    "            check_bisect = output_kmeans[cntr1]\n",
    "            if(check_bisect == 2):               \n",
    "                ind_clust[cnt_indx[cntr1]] = number + 1        \n",
    "            \n",
    "        for cnt in range(k):   \n",
    "            ind_clust = ind_clust[cnt] - 1;\n",
    "            lst[ind_clust] = lst[ind_clust] + 1\n",
    "        \n",
    "        num_high = lst[0]\n",
    "        \n",
    "        for t in range(1, w):\n",
    "            if (lst[t] > num_high):             \n",
    "                count = t + 1\n",
    "        \n",
    "    return ind_clust "
   ]
  },
  {
   "cell_type": "code",
   "execution_count": 9,
   "metadata": {
    "scrolled": true
   },
   "outputs": [
    {
     "name": "stdout",
     "output_type": "stream",
     "text": [
      "Value of k : 3\n",
      "The calinski harabaz score is : 64.9167797232\n",
      "Value of k : 5\n",
      "The calinski harabaz score is : 51.5520235547\n",
      "Value of k : 7\n",
      "The calinski harabaz score is : 49.6038587251\n",
      "Value of k : 9\n",
      "The calinski harabaz score is : 45.1129268033\n",
      "Value of k : 11\n",
      "The calinski harabaz score is : 40.4352081289\n",
      "Value of k : 13\n",
      "The calinski harabaz score is : 37.711910979\n",
      "Value of k : 15\n",
      "The calinski harabaz score is : 35.6842231128\n",
      "Value of k : 17\n",
      "The calinski harabaz score is : 34.2240350136\n",
      "Value of k : 19\n",
      "The calinski harabaz score is : 34.165354354\n",
      "Value of k : 21\n",
      "The calinski harabaz score is : 32.8168006133\n"
     ]
    }
   ],
   "source": [
    "# Decalring two lists to save the values of k and the calinski score\n",
    "x,y = [], []\n",
    "\n",
    "# Calling in the bisecting k means with required k values\n",
    "for k in range(3, 22, 2):\n",
    "    output_Bisecting_KMeans = Clustering_KMeans(k, mat3, 10)\n",
    "    calinski_score = calinski_harabaz_score(mat3.toarray(), output_Bisecting_KMeans)\n",
    "    x.append(k)\n",
    "    print \"Value of k : \" + str(k) \n",
    "    y.append(score)\n",
    "    print \"The calinski harabaz score is : \" + str(calinski_score)\n",
    "   "
   ]
  },
  {
   "cell_type": "code",
   "execution_count": 11,
   "metadata": {},
   "outputs": [
    {
     "data": {
      "image/png": "[encoded data removed]",
      "text/plain": [
       "<matplotlib.figure.Figure at 0xbd15908>"
      ]
     },
     "metadata": {},
     "output_type": "display_data"
    }
   ],
   "source": [
    "#Plotting Here the graph\n",
    "\n",
    "fig,ax = matplot.subplots()\n",
    "ax.grid(True)\n",
    "matplot.xlabel('k')\n",
    "matplot.ylabel('Calinski Harabaz Score')\n",
    "matplot.title('Evaluation')\n",
    "matplot.axis([1, 22, 0, 66])\n",
    "matplot.plot(x, y, 'red')\n",
    "pylab.show()\n"
   ]
  },
  {
   "cell_type": "code",
   "execution_count": 13,
   "metadata": {},
   "outputs": [],
   "source": [
    "# Finally Write the output to the file output.dat\n",
    "\n",
    "output = open(\"output.dat\", \"w\")\n",
    "for value in output_Bisecting_KMeans:\n",
    "    output.write(str(value) +'\\n')\n",
    "output.close()"
   ]
  }
 ],
 "metadata": {
  "kernelspec": {
   "display_name": "Python 2",
   "language": "python",
   "name": "python2"
  },
  "language_info": {
   "codemirror_mode": {
    "name": "ipython",
    "version": 2
   },
   "file_extension": ".py",
   "mimetype": "text/x-python",
   "name": "python",
   "nbconvert_exporter": "python",
   "pygments_lexer": "ipython2",
   "version": "2.7.13"
  }
 },
 "nbformat": 4,
 "nbformat_minor": 2
}
